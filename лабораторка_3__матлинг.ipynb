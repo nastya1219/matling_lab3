{
  "nbformat": 4,
  "nbformat_minor": 0,
  "metadata": {
    "colab": {
      "provenance": []
    },
    "kernelspec": {
      "name": "python3",
      "display_name": "Python 3"
    },
    "language_info": {
      "name": "python"
    }
  },
  "cells": [
    {
      "cell_type": "markdown",
      "source": [
        "Написать программу на основе автомата со стеком, понимающую на вход цепочку из 0 и 1, и выводящую сперва все 0, а потом все 1."
      ],
      "metadata": {
        "id": "rxXB9vYgnEK1"
      }
    },
    {
      "cell_type": "code",
      "execution_count": 5,
      "metadata": {
        "colab": {
          "base_uri": "https://localhost:8080/"
        },
        "id": "9K_whz2rMfLC",
        "outputId": "9a03c0b6-009b-43e1-8300-f9e7895808c7"
      },
      "outputs": [
        {
          "output_type": "stream",
          "name": "stdout",
          "text": [
            "00000000000000000000111111111111111111111\n"
          ]
        }
      ],
      "source": [
        "def stack_automaton(binary_numbers):\n",
        "    stack = []  # создание пустого стека\n",
        "\n",
        "    # Проверка на корректность входной строки\n",
        "    for char in binary_numbers:\n",
        "        if char not in {'0', '1'}:  # проверяем, что все символы в строке либо 0 либо 1, если это не так, возвращается ошибка\n",
        "            return f\"Error: Invalid character '{char}' in input string\"\n",
        "\n",
        "    # Помещаем все символы входной строки в стек\n",
        "    for char in binary_numbers:\n",
        "        stack.append(char)\n",
        "\n",
        "    # Создаем строки для 0 и 1\n",
        "    zeros = ''\n",
        "    ones = ''\n",
        "\n",
        "    # Извлекаем символы из стека и сортируем их\n",
        "    while stack:  # цикл продолжается до тех пор, пока стек не станет пустым\n",
        "        char = stack.pop()  # удаляет и возвращает последний символ\n",
        "        if char == '0':\n",
        "            zeros += char  # если символ равен 0, добавляем его в нули\n",
        "        elif char == '1':\n",
        "            ones += char  # если символ равен 1, добавляем его в единицы\n",
        "\n",
        "    # Выводим результат\n",
        "    result = zeros + ones  # сначала нули, потом единицы\n",
        "    return result\n",
        "\n",
        "# Пример\n",
        "input_string = \"11111010010101011010101000010101010101001\"\n",
        "output_string = stack_automaton(input_string)\n",
        "print(output_string)"
      ]
    }
  ]
}