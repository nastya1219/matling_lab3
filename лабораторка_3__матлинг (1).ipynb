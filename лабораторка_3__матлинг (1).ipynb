{
  "nbformat": 4,
  "nbformat_minor": 0,
  "metadata": {
    "colab": {
      "provenance": []
    },
    "kernelspec": {
      "name": "python3",
      "display_name": "Python 3"
    },
    "language_info": {
      "name": "python"
    }
  },
  "cells": [
    {
      "cell_type": "markdown",
      "source": [
        "Первый пример кода с автоматом (здесь начальное состояние позволяет обрабатывать и нули, и единицы)"
      ],
      "metadata": {
        "id": "kf_Lkp709nL-"
      }
    },
    {
      "cell_type": "code",
      "source": [
        "def stack_automaton(binary_numbers):\n",
        "    stack = []  # создание пустого стека\n",
        "    state = 'q0'  # задаем начальное состояние\n",
        "    output = ''\n",
        "\n",
        "    def transition(state, char, stack, output):\n",
        "        if state == 'q0':  # проверяем состояние\n",
        "            if char == '0':  # если перед нами 0\n",
        "                output += char  # печатаем 0 сразу\n",
        "                return 'q0', stack, output  # состояние дальше равно q0\n",
        "            elif char == '1':  # если перед нами 1\n",
        "                stack.append(char)  # кладем 1 в стек\n",
        "                return 'q0', stack, output  # состояние дальше равно q0\n",
        "        elif state == 'q2':  # проверяем состояние\n",
        "            if stack:  # пока стек не пуст\n",
        "                output += stack.pop()  # извлекаем символы из стека и добавляем их к выходной строке\n",
        "                return 'q2', stack, output  # остаемся в состоянии q2 до полного опустошения стека\n",
        "        return 'q_reject', stack, output  # неизвестный символ или ошибка, тогда состояние дальше q_reject\n",
        "\n",
        "    for char in binary_numbers:\n",
        "        # выполнение перехода и обновление состояний, стека и выходной строки\n",
        "        state, stack, output = transition(state, char, stack, output)\n",
        "        if state == 'q_reject':  # если состояние 'q_reject', возвращаем ошибку\n",
        "            return f\"Error: Invalid character '{char}' in input string\"\n",
        "\n",
        "    # после завершения чтения строки переходим в состояние опустошения стека\n",
        "    state = 'q2'\n",
        "    while state == 'q2':\n",
        "        state, stack, output = transition(state, '', stack, output)\n",
        "\n",
        "    return output  # возвращаем результирующую строку"
      ],
      "metadata": {
        "id": "0p0fEzK0hnZc"
      },
      "execution_count": 52,
      "outputs": []
    },
    {
      "cell_type": "code",
      "source": [
        "# Пример:\n",
        "input_string = \"11111010010101011010101000010101010101001\"  # входная строка\n",
        "output_string = stack_automaton(input_string)  # вызов функции stack_automaton с входной строкой\n",
        "print(output_string)"
      ],
      "metadata": {
        "colab": {
          "base_uri": "https://localhost:8080/"
        },
        "id": "1ljBiiE9GDR_",
        "outputId": "f2008dec-f706-4dcb-f6d0-e6c514ef7830"
      },
      "execution_count": 53,
      "outputs": [
        {
          "output_type": "stream",
          "name": "stdout",
          "text": [
            "00000000000000000000111111111111111111111\n"
          ]
        }
      ]
    },
    {
      "cell_type": "markdown",
      "source": [
        "Второй пример кода с немного другим автоматом (здесь начальное состояние обрабатывает нули, а в состояние q1 все переходит, когда появляются единицы)\n",
        "\n"
      ],
      "metadata": {
        "id": "i60oFyUv9q7N"
      }
    },
    {
      "cell_type": "code",
      "source": [
        "def stack_automaton(binary_numbers):\n",
        "    stack = []  # создание пустого стека\n",
        "    state = 'q0'  # задаем начальное состояние\n",
        "    output = ''\n",
        "\n",
        "    def transition(state, char, stack, output):\n",
        "        if state == 'q0':  # проверяем состояние\n",
        "            if char == '0':  # если перед нами 0\n",
        "                output += char  # добавляем 0 к выходной строке\n",
        "                return 'q0', stack, output  # остаемся в состоянии q0\n",
        "            elif char == '1':  # если перед нами 1\n",
        "                stack.append(char)  # кладем 1 в стек\n",
        "                return 'q1', stack, output  # переходим в состояние q1\n",
        "        elif state == 'q1':  # проверяем состояние\n",
        "            if char == '1':  # если перед нами 1\n",
        "                stack.append(char)  # кладем 1 в стек\n",
        "                return 'q1', stack, output  # остаемся в состоянии q1\n",
        "            elif char == '0':  # если перед нами 0\n",
        "                output += char  # добавляем 0 к выходной строке\n",
        "                return 'q0', stack, output  # переходим в состояние q0\n",
        "        elif state == 'q2':  # проверяем состояние\n",
        "            if stack:  # пока стек не пуст\n",
        "                output += stack.pop()  # извлекаем символы из стека и добавляем их к выходной строке\n",
        "                return 'q2', stack, output  # остаемся в состоянии q2 до полного опустошения стека\n",
        "        return 'q_reject', stack, output  # неизвестный символ или ошибка\n",
        "\n",
        "    for char in binary_numbers:\n",
        "        # выполнение перехода и обновление состояния, стека и выходной строки\n",
        "        state, stack, output = transition(state, char, stack, output)\n",
        "        if state == 'q_reject':  # если состояние 'q_reject', возвращаем ошибку\n",
        "            return f\"Error: Invalid character '{char}' in input string\"\n",
        "\n",
        "    # после завершения чтения строки переходим в состояние опустошения стека\n",
        "    state = 'q2'\n",
        "    while state == 'q2':\n",
        "        state, stack, output = transition(state, '', stack, output)\n",
        "\n",
        "    return output  # возвращаем результирующую строку"
      ],
      "metadata": {
        "id": "NS-C03vb8dbv"
      },
      "execution_count": 50,
      "outputs": []
    },
    {
      "cell_type": "code",
      "source": [
        "# Пример:\n",
        "input_string = \"11111010010101011010101000010101010101001\"  # входная строка\n",
        "output_string = stack_automaton(input_string)  # вызов функции stack_automaton с входной строкой\n",
        "print(output_string)"
      ],
      "metadata": {
        "colab": {
          "base_uri": "https://localhost:8080/"
        },
        "id": "z3366xsttiwh",
        "outputId": "59074872-9a27-41de-f215-803ae7a1266f"
      },
      "execution_count": 51,
      "outputs": [
        {
          "output_type": "stream",
          "name": "stdout",
          "text": [
            "00000000000000000000111111111111111111111\n"
          ]
        }
      ]
    }
  ]
}